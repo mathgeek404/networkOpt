{
 "cells": [
  {
   "cell_type": "markdown",
   "metadata": {
    "collapsed": true
   },
   "source": [
    "## 1. Introduction ##\n",
    "\n",
    "The aim of this project is to find the optimal method to connect all cities with fiber optic cable. Imagine that you are the mayor of a few cities that have very slow internet speed and the people demand for an upgrade. Hence, you have to find a way to connect all the cities with a better cable and allocate a budget for that project. How many possible ways are there to do this? And which way is the cheapest and the best?\n",
    "\n",
    "Nowadays, fiber optic cable is said to be the best cable because of its speed and reliability. However, it is not fully installed in every city because of its cost ([citations](http://broadbandnow.com/Fiber)). The cost for the cable itself is not that high but the cost of installing the cable is the problem. It takes a lot of money to remove obstacles and dig deep enough to install the cables ([citations](http://www.firetide.com/blog/what-is-the-real-cost-of-fiber-networking/)). The per mile cost for installing the cable range from \\$10,000 to \\$100,000. Hence, we have to find the shortest path to install the cable so that all cities are connected ([citations](http://www.itscosts.its.dot.gov/its/benecost.nsf/DisplayRUCByUnitCostElementUnadjusted?ReadForm&UnitCostElement=Fiber+Optic+Cable+Installation+&Subsystem=Roadside+Telecommunications+)).\n",
    "\n",
    "The first part of this project focus on finding a graph to connect all the cities. Here's an example of how it might look like.\n",
    "\n",
    "![minimum spanning tree][flow]\n",
    "\n",
    "All the nodes or the dots are cities and there are a lot of paths between cities. And our aim is to find a shortest way to connect all the cities.\n",
    "\n",
    "Furthermore, there are different types of fiber optic cables. Higher quality cables will cost more per mile while lower quality cables will cost less per mile. By instinct, the best way is to install the higher quality cables since it is more reliable and faster. However, there is a budget constraint and you might not have enough money to install high quality cables for all cities. Hence, you have to find a way to maximize the amount of high quality connection and stay below the budget at the same time. This is the focus of the second part of the project.\n",
    "\n",
    "In this project, we made a few assumptions. We assume that the cost for the installation of fiber optic cable is the same cost per mile for the respective cables regardless of the location it is installed. We also assume that there are only two types of fiber optic cables. Cable 1 with a bandwidth of 10Ghz and 20k cost per mile and Cable 2 with a bandwidth of 20Ghz and 45k cost per mile.\n",
    "\n",
    "Finally, this model can be generalized to connecting cables between places. If there are new types of cables in the market, this model can find the optimal way to connect the cables.\n",
    "\n",
    "[flow]: https://upload.wikimedia.org/wikipedia/commons/thumb/d/d2/Minimum_spanning_tree.svg/300px-Minimum_spanning_tree.svg.png"
   ]
  }
 ],
 "metadata": {
  "kernelspec": {
   "display_name": "Julia 0.4.5",
   "language": "julia",
   "name": "julia-0.4"
  },
  "language_info": {
   "file_extension": ".jl",
   "mimetype": "application/julia",
   "name": "julia",
   "version": "0.4.5"
  }
 },
 "nbformat": 4,
 "nbformat_minor": 0
}
