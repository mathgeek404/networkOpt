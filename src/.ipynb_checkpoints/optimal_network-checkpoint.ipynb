{
 "cells": [
  {
   "cell_type": "markdown",
   "metadata": {},
   "source": [
    "# Network Infrastructure\n",
    "\n",
    "network infrastructure is essential.\n",
    "\n",
    "From connecting machines in an office to datacenters between continients, network design combines issues in topology, connectivity, and economic cost in \n",
    "\n",
    "One of the key issues in com"
   ]
  },
  {
   "cell_type": "code",
   "execution_count": 8,
   "metadata": {
    "collapsed": false
   },
   "outputs": [],
   "source": [
    "using JuMP\n",
    "using Ipopt\n",
    "using Clp\n",
    "using NamedArrays\n",
    "using PyPlot"
   ]
  },
  {
   "cell_type": "code",
   "execution_count": 20,
   "metadata": {
    "collapsed": false
   },
   "outputs": [
    {
     "data": {
      "text/plain": [
       "Dict{ASCIIString,Float64} with 4 entries:\n",
       "  \"Chicago\" => -87.6298\n",
       "  \"LA\"      => -118.2437\n",
       "  \"Dallas\"  => -96.797\n",
       "  \"Boston\"  => -71.0589"
      ]
     },
     "execution_count": 20,
     "metadata": {},
     "output_type": "execute_result"
    }
   ],
   "source": [
    "#Data\n",
    "\n",
    "centers = [\"Boston\",\"LA\",\"Chicago\",\"Dallas\"]\n",
    "raw = [\n",
    "    0 2600 850 1500;\n",
    "    2600 0 1700 1300; \n",
    "    850 1700 0 805;\n",
    "    1500 1300 805 0;\n",
    "];\n",
    "\n",
    "distance = NamedArray(raw, (centers,centers), (\"from\",\"to\"))\n",
    "n = length(centers)\n",
    "\n",
    "data = [ \n",
    "    42.3601 -71.0589;\n",
    "    34.0522 -118.2437;\n",
    "    41.8781 -87.6298;\n",
    "    32.7767 -96.7970;\n",
    "]\n",
    "lat = Dict(zip(centers,data[:,1]))\n",
    "lon = Dict(zip(centers,data[:,2]))\n",
    "\n"
   ]
  },
  {
   "cell_type": "markdown",
   "metadata": {},
   "source": [
    "# Optimal Min Cost\n",
    "\n",
    "## Min Spanning Tree\n",
    "http://www.columbia.edu/~cs2035/courses/ieor6614.S16/mst-lp.pdf\n",
    "\n",
    "Trees of n nodes must have exactly n-1 edges. \n",
    "\n",
    "To prevent disconnected components, we use a subtour elimination constraint that prevents cycles. To do so, we consider every possible subset of nodes S and require that the induced subgraph (that is, the subgraph with edges only between these points) must have less than $|S|-1$ edges. This does require us to generate and enummerate $2^{n}$ constraints since there are $2^{n}$ possible subsets"
   ]
  },
  {
   "cell_type": "code",
   "execution_count": 4,
   "metadata": {
    "collapsed": false
   },
   "outputs": [
    {
     "ename": "LoadError",
     "evalue": "LoadError: PyError (:PyImport_ImportModule) <type 'exceptions.ImportError'>\nImportError('No module named basemap',)\n\nwhile loading In[4], in expression starting on line 324",
     "output_type": "error",
     "traceback": [
      "LoadError: PyError (:PyImport_ImportModule) <type 'exceptions.ImportError'>\nImportError('No module named basemap',)\n\nwhile loading In[4], in expression starting on line 324",
      ""
     ]
    }
   ],
   "source": [
    "# HELPER FUNCTION: returns the cycle containing the city START.\n",
    "function getSubtour(x,start)\n",
    "    subtour = [start]\n",
    "    while true\n",
    "        j = subtour[end]\n",
    "        for k in centers\n",
    "            if x[k,j] >= 0.9\n",
    "                push!(subtour,k)\n",
    "                break\n",
    "            end\n",
    "        end\n",
    "        if subtour[end] == start\n",
    "            break\n",
    "        end\n",
    "    end\n",
    "    return subtour\n",
    "end\n",
    "\n",
    "# HELPER FUNCTION: returns a list of all cycles\n",
    "function getAllSubtours(x)\n",
    "    nodesRemaining = centers\n",
    "    subtours = []\n",
    "    while length(nodesRemaining) > 0\n",
    "        subtour = getSubtour(x,nodesRemaining[1])\n",
    "        push!(subtours, subtour)\n",
    "        nodesRemaining = setdiff(nodesRemaining,subtour)\n",
    "    end\n",
    "    return subtours\n",
    "end\n",
    "\n",
    "# HELPER FUNCTION FOR MAPPING AIRPORTS\n",
    "\n",
    "data = [ 33.636700  -84.427863 \n",
    "         41.977320  -87.908005\n",
    "         39.861667 -104.673166\n",
    "         29.645417  -95.278888\n",
    "         33.942437 -118.408121\n",
    "         25.795361  -80.290110\n",
    "         40.639926  -73.778694\n",
    "         37.618806 -122.375416\n",
    "         47.449889 -122.311777\n",
    "         38.851444  -77.037721 ]\n",
    "lat = Dict(zip(centers,data[:,1]))\n",
    "lon = Dict(zip(centers,data[:,2]))\n",
    "\n",
    "using PyPlot\n",
    "using PyCall\n",
    "@pyimport mpl_toolkits.basemap as basemap\n",
    "\n",
    "function mapSolution(x=0)\n",
    "    m=basemap.Basemap(projection=\"merc\", resolution=\"l\",llcrnrlat=23,llcrnrlon=-126,urcrnrlat=50,urcrnrlon=-70)\n",
    "    m[:drawmapboundary](fill_color=\"#4771a5\")\n",
    "    m[:fillcontinents](color=\"#555555\")\n",
    "\n",
    "    # plot airports\n",
    "    for i in centers\n",
    "        m[:plot](lon[i], lat[i], \"ro\" ,latlon=true)\n",
    "    end\n",
    "\n",
    "    # plot tours\n",
    "    if x==0\n",
    "        return\n",
    "    else\n",
    "        tours = getAllSubtours(x)\n",
    "        for t in tours\n",
    "            L = length(t)-1\n",
    "            for i in 1:L\n",
    "                m[:drawgreatcircle](lon[t[i]],lat[t[i]],lon[t[i+1]],lat[t[i+1]],linewidth=1,color=\"b\")\n",
    "            end\n",
    "        end\n",
    "    end\n",
    "end\n",
    ";"
   ]
  },
  {
   "cell_type": "code",
   "execution_count": null,
   "metadata": {
    "collapsed": true
   },
   "outputs": [],
   "source": [
    "m = Model();\n",
    "@variable(m, edge[centers,centers], Bin)\n",
    "@constraint(m, sum(edge) == n-1) # Min spanning tree requirement\n",
    "@objective(m, Min, sum{edge[i,j]*distance[i,j], i in centers, j in centers})\n",
    "for i in centers\n",
    "    @constraint(m,edge[i,i]==0)\n",
    "end\n",
    "\n",
    "#TODO: subtour constraint\n",
    "sols = []\n",
    "for iters = 1:2\n",
    "    solve(m)\n",
    "    println(getvalue(edge))\n",
    "    println(\"Tour length: \", getobjectivevalue(m))\n",
    "    xx = getvalue(edge)\n",
    "    push!(sols,xx)\n",
    "    subtours = getAllSubtours(xx)  # get all the subtours\n",
    "    len = length(subtours)\n",
    "    if len == 1                    # solution is just a single tour!\n",
    "        println(\"SOLVED!\")\n",
    "        break\n",
    "    else\n",
    "        for subtour in subtours\n",
    "            L = length(subtour)\n",
    "            @constraint(m, sum{ edge[subtour[k+1],subtour[k]], k = 1:L-1 } <= L-2)\n",
    "            @constraint(m, sum{ edge[subtour[k],subtour[k+1]], k = 1:L-1 } <= L-2)\n",
    "        end\n",
    "    end\n",
    "end\n",
    "print(getvalue(edge))"
   ]
  },
  {
   "cell_type": "markdown",
   "metadata": {},
   "source": [
    "## Approach II"
   ]
  },
  {
   "cell_type": "code",
   "execution_count": 10,
   "metadata": {
    "collapsed": false
   },
   "outputs": [
    {
     "name": "stdout",
     "output_type": "stream",
     "text": [
      "16"
     ]
    }
   ],
   "source": [
    "# Ennumerative Subset approach\n",
    "function genSubsets(nn)\n",
    "    if (nn==1)\n",
    "        return Array[[1],[]]\n",
    "    else\n",
    "        sol = genSubsets(nn-1);\n",
    "        for i in 1:length(sol)\n",
    "            push!(sol,[sol[i];nn])\n",
    "        end\n",
    "        return sol\n",
    "    end\n",
    "end\n",
    "print(length(genSubsets(4)))"
   ]
  },
  {
   "cell_type": "code",
   "execution_count": 25,
   "metadata": {
    "collapsed": false
   },
   "outputs": [
    {
     "name": "stdout",
     "output_type": "stream",
     "text": [
      "Array[[1],Any[],[1,2],Any[2],[1,3],Any[3],[1,2,3],Any[2,3],[1,4],Any[4],[1,2,4],Any[2,4],[1,3,4],Any[3,4],[1,2,3,4],Any[2,3,4]]edge: 2 dimensions:\n",
      "[ Boston,:]\n",
      "  [ Boston, Boston] = 0.0\n",
      "  [ Boston,     LA] = 0.0\n",
      "  [ Boston,Chicago] = 1.0\n",
      "  [ Boston, Dallas] = 0.0\n",
      "[     LA,:]\n",
      "  [     LA, Boston] = 0.0\n",
      "  [     LA,     LA] = 0.0\n",
      "  [     LA,Chicago] = 0.0\n",
      "  [     LA, Dallas] = 1.0\n",
      "[Chicago,:]\n",
      "  [Chicago, Boston] = 0.0\n",
      "  [Chicago,     LA] = 0.0\n",
      "  [Chicago,Chicago] = 0.0\n",
      "  [Chicago, Dallas] = 1.0\n",
      "[ Dallas,:]\n",
      "  [ Dallas, Boston] = 0.0\n",
      "  [ Dallas,     LA] = 0.0\n",
      "  [ Dallas,Chicago] = 0.0\n",
      "  [ Dallas, Dallas] = 0.0\n",
      "\n",
      "2955.0\n"
     ]
    },
    {
     "data": {
      "image/png": "[encoded data removed]",
      "text/plain": [
       "PyPlot.Figure(PyObject <matplotlib.figure.Figure object at 0x31db87990>)"
      ]
     },
     "metadata": {},
     "output_type": "display_data"
    }
   ],
   "source": [
    "m = Model();\n",
    "@variable(m, edge[centers,centers], Bin)\n",
    "@constraint(m, sum(edge) == n-1) # Min spanning tree requirement\n",
    "@objective(m, Min, sum{edge[i,j]*distance[i,j], i in centers, j in centers})\n",
    "for i in centers\n",
    "    @constraint(m,edge[i,i]==0)\n",
    "end\n",
    "subsets = genSubsets(n)\n",
    "print(subsets)\n",
    "for arr in subsets\n",
    "    L = length(arr)\n",
    "    if L > 1\n",
    "        @constraint(m, sum{ edge[centers[i],centers[j]], i in arr, j in arr } <= L-1)\n",
    "    end\n",
    "end\n",
    "solve(m)\n",
    "println(getvalue(edge))\n",
    "println(getobjectivevalue(m))\n",
    "mapSolution(getvalue(edge))"
   ]
  },
  {
   "cell_type": "code",
   "execution_count": 24,
   "metadata": {
    "collapsed": false
   },
   "outputs": [],
   "source": [
    "# US Map plotter\n",
    "using PyPlot\n",
    "using PyCall\n",
    "@pyimport mpl_toolkits.basemap as basemap\n",
    "\n",
    "function mapSolution(x=0)\n",
    "    m=basemap.Basemap(projection=\"merc\", resolution=\"l\",llcrnrlat=23,llcrnrlon=-126,urcrnrlat=50,urcrnrlon=-70)\n",
    "    m[:drawmapboundary](fill_color=\"#4771a5\")\n",
    "    m[:fillcontinents](color=\"#555555\")\n",
    "\n",
    "    # plot airports\n",
    "    for i in centers\n",
    "        m[:plot](lon[i], lat[i], \"ro\" ,latlon=true)\n",
    "    end\n",
    "    \n",
    "    for i in centers\n",
    "        for j in centers\n",
    "            if x[i,j] > 0.9\n",
    "                m[:drawgreatcircle](lon[i],lat[i],lon[j],lat[j],linewidth=1,color=\"b\")\n",
    "            end\n",
    "        end\n",
    "    end\n",
    "end\n",
    ";"
   ]
  },
  {
   "cell_type": "code",
   "execution_count": null,
   "metadata": {
    "collapsed": false
   },
   "outputs": [],
   "source": []
  },
  {
   "cell_type": "markdown",
   "metadata": {},
   "source": [
    "# Connected graphs"
   ]
  },
  {
   "cell_type": "code",
   "execution_count": 14,
   "metadata": {
    "collapsed": false
   },
   "outputs": [
    {
     "name": "stdout",
     "output_type": "stream",
     "text": [
      "edge: 2 dimensions:\n",
      "[ Boston,:]\n",
      "  [ Boston, Boston] = 0.0\n",
      "  [ Boston,     LA] = 0.0\n",
      "  [ Boston,Chicago] = 1.0\n",
      "  [ Boston, Dallas] = 0.0\n",
      "[     LA,:]\n",
      "  [     LA, Boston] = 0.0\n",
      "  [     LA,     LA] = 0.0\n",
      "  [     LA,Chicago] = 0.0\n",
      "  [     LA, Dallas] = 0.0\n",
      "[Chicago,:]\n",
      "  [Chicago, Boston] = 0.0\n",
      "  [Chicago,     LA] = 0.0\n",
      "  [Chicago,Chicago] = 0.0\n",
      "  [Chicago, Dallas] = 1.0\n",
      "[ Dallas,:]\n",
      "  [ Dallas, Boston] = 0.0\n",
      "  [ Dallas,     LA] = 1.0\n",
      "  [ Dallas,Chicago] = 0.0\n",
      "  [ Dallas, Dallas] = 0.0\n",
      "\n",
      "2955.0\n"
     ]
    }
   ],
   "source": [
    "m = Model()\n",
    "@variable(m, edge[centers,centers], Bin)\n",
    "\n",
    "#Connectivity requirement\n",
    "@variable(m, flow[centers,centers] >=0) #how much flow over edge (no upper limit)\n",
    "for i in centers\n",
    "    @constraint(m, edge[i,i]==0)\n",
    "    @constraint(m, flow[i,i]==0)\n",
    "    for j in centers\n",
    "        @constraint(m,flow[i,j] <= (n-1)*edge[i,j]) # encodes \"if flow >0, then edge==1\" \n",
    "    end\n",
    "    \n",
    "    if (i==centers[1])\n",
    "        @constraint(m, n-1 - sum{flow[i,c], c in centers} ==0) # center 1 has (n-1 inflow,)\n",
    "    else\n",
    "        @constraint(m, sum{flow[c,i], c=centers}-sum{flow[i,c], c in centers}==1) #Every other node has 1 outflow\n",
    "    end\n",
    "end\n",
    "\n",
    "@objective(m, Min, sum{edge[i,j]*distance[i,j], i in centers, j in centers})\n",
    "#Connectivity constraint as a max-flow problem.\n",
    "\n",
    "s=solve(m)\n",
    "println(getvalue(edge))\n",
    "println(getobjectivevalue(m))"
   ]
  },
  {
   "cell_type": "markdown",
   "metadata": {},
   "source": [
    "## Diameter Constrainted\n",
    "\n",
    "http://www.dcc.ic.uff.br/~celso/artigos/cpdcmst.pdf\n"
   ]
  },
  {
   "cell_type": "code",
   "execution_count": null,
   "metadata": {
    "collapsed": true
   },
   "outputs": [],
   "source": [
    "# Even D case\n",
    "# Odd D case\n",
    "\n"
   ]
  }
 ],
 "metadata": {
  "kernelspec": {
   "display_name": "Julia 0.4.5",
   "language": "julia",
   "name": "julia-0.4"
  },
  "language_info": {
   "file_extension": ".jl",
   "mimetype": "application/julia",
   "name": "julia",
   "version": "0.4.5"
  }
 },
 "nbformat": 4,
 "nbformat_minor": 0
}
