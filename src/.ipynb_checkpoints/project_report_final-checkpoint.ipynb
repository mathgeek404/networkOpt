{
 "cells": [
  {
   "cell_type": "markdown",
   "metadata": {},
   "source": [
    "### CS/ECE/ISyE 524 &mdash; Introduction to Optimization &mdash; Spring 2016 ###\n",
    "\n",
    "#  #\n",
    "\n",
    "#### Sahit Mandala (mandala@wisc.edu) and Wayne Chew (Ming Chan, mchew2@wisc.edu)\n",
    "\n",
    "*****\n",
    "\n",
    "### Table of Contents\n",
    "\n",
    "1. [Introduction](#1.-Introduction)\n",
    "1. [Mathematical Model](#2.-Mathematical-model)\n",
    "1. [Solution](#3.-Solution)\n",
    "1. [Results and Discussion](#4.-Results-and-discussion)\n",
    "  1. [Optional Subsection](#4.A.-Feel-free-to-add-subsections)\n",
    "1. [Conclusion](#5.-Conclusion)"
   ]
  },
  {
   "cell_type": "markdown",
   "metadata": {
    "collapsed": true
   },
   "source": [
    "## 1. Introduction ##\n",
    "\n",
    "The first few sentences should give a quick overview of the entire project. Then, elaborate with a description of the problem that will be solved, a brief history (with [citations](https://en.wikipedia.org/wiki/Citation)) of how the problem came about, why it's important/interesting, and any other interesting facts you'd like to talk about. You should address and explain where the problem data is coming from (research? the internet? synthetically generated?) Also give an outline of the rest of the report.\n",
    "\n",
    "This section should be 300-600 words long, and **should be accessible to a general audience** (don't assume your reader has taken the class!). Feel free to include images if you think it'll be helpful:\n",
    "\n",
    "![fixit flowchart][flow]\n",
    "\n",
    "For more help on using Markdown, see [this reference](https://github.com/adam-p/markdown-here/wiki/Markdown-Cheatsheet).\n",
    "\n",
    "[flow]: https://s-media-cache-ak0.pinimg.com/736x/f5/75/c5/f575c53b93724808c6f0211890a54900.jpg"
   ]
  },
  {
   "cell_type": "markdown",
   "metadata": {
    "collapsed": true
   },
   "source": [
    "## 2. Mathematical model ##\n",
    "\n",
    "A discussion of the modeling assumptions made in the problem (e.g. is it from physics? economics? something else?). Explain the decision variables, the constraints, and the objective function. Finally, show the optimization problem written in standard form. Discuss the model type (LP, QP, MIP, etc.). Equations should be formatted in $\\LaTeX$ within the IJulia notebook. For this section you may **assume the reader is familiar with the material covered in class**.\n",
    "\n",
    "Here is an example of an equation:\n",
    "\n",
    "$$\n",
    "\\begin{bmatrix}\n",
    "  1 & 2 \\\\\n",
    "  3 & 4\n",
    "\\end{bmatrix}\n",
    "\\begin{bmatrix} x \\\\ y \\end{bmatrix} =\n",
    "\\begin{bmatrix} 5 \\\\ 6 \\end{bmatrix}\n",
    "$$\n",
    "\n",
    "And here is an example of an optimization problem in standard form:\n",
    "\n",
    "$$\n",
    "\\begin{aligned}\n",
    "\\underset{x \\in \\mathbb{R^n}}{\\text{maximize}}\\qquad& f_0(x) \\\\\n",
    "\\text{subject to:}\\qquad& f_i(x) \\le 0 && i=1,\\dots,m\\\\\n",
    "& h_j(x) = 0 && j=1,\\dots,r\n",
    "\\end{aligned}\n",
    "$$\n",
    "\n",
    "For some quick tips on using $\\LaTeX$, see [this cheat sheet](http://users.dickinson.edu/~richesod/latex/latexcheatsheet.pdf)."
   ]
  },
  {
   "cell_type": "markdown",
   "metadata": {},
   "source": [
    "### Parameters\n",
    "$V$: Set of vertices (i.e. cities) over our graph\n",
    "\n",
    "$n$: Number of unique vertices in graph ($n=|V|$)\n",
    "\n",
    "$c$: n by n adjecency matrix of distances between node i and j: \n",
    "\n",
    "### Decision variables:\n",
    "We use $x_{i,j}$ as an indicator matrix for whether the edge from i to j is included within our subgraph solution. We note that because our network flow formulation allows flow bidirectionally on each \"undirected\" edge, we note that this encodes a directed graph adjacency matrix; in our solution, we treat these edges as undirected since our fiber optic network connections are bidirectional.\n",
    "\n",
    "$$\n",
    "\\begin{aligned}\n",
    "x_{i,j} \\in {\\{0,1\\}} && \\forall i,j \\in V\n",
    "\\end{aligned}\n",
    "$$\n",
    "\n",
    "We use a nonnegative variable to encode information about the network flow between nodes i and j, as part of the connectivity solution:\n",
    "\n",
    "$$\n",
    "\\begin{aligned}\n",
    "flow_{i,j} \\geq 0 && \\forall i,j \\in V\n",
    "\\end{aligned}\n",
    "$$\n",
    "\n",
    "\n",
    "### Constraints:\n",
    "\n",
    "We do not want to consider self loops on nodes as prospective edges.\n",
    "\n",
    "$$\n",
    "\\begin{aligned}\n",
    "flow_{i,i}=0 && \\forall i \\in V \\\\\n",
    "x_{i,i}=0 && \\forall i \\in V\n",
    "\\end{aligned}\n",
    "$$\n",
    "\n",
    "For node 1 (any arbitrary node chosen from S), we have a source node with n-1 unit supply. We utilize the conservation of flow equations across incoming and outgoing edges to form this constraint:\n",
    "\n",
    "$$\n",
    "(n-1)+\\sum_{j \\in V} flow_{j,1}*x_{j,1}-\\sum_{j \\in V} flow_{1,j}*x_{1,j} = 0\n",
    "$$\n",
    "\n",
    "For all nodes $i \\in V$ with $i \\neq 1$, they have net demand 1. Thus, the conservation of flow equations becomes:\n",
    "\n",
    "$$\\sum_{j \\in V} flow_{j,i}*x_{j,i}-\\sum_{j \\in V} flow_{i,j}*x_{i,j} = 1$$\n",
    "\n",
    "We would like to encode a constaint to force flows only over edges that are \"included\". That is, if there exists a flow from nodes i to j for $i,j \\in V$, then $x_{i,j}=1$. Noting that the max flow over any edge is n-1 because there is only n-1 supply over the whole network (from node 1), we can use this as an upper limit to write an equivalent inequality constraint:\n",
    "\n",
    "$$\n",
    "\\begin{aligned}\n",
    "(n-1)*x_{i,j} \\geq flow_{i,j} && \\forall i,j \\in V\n",
    "\\end{aligned}\n",
    "$$\n",
    "\n",
    "### Objective: \n",
    "Our choice of edges in our subgraph seeks to minimize the total cost across all included edge weights. To do so, we calculate the weighted sum of each edges' weight (i.e. distance) with $x_{i,j}$, the binary indicator of whether it is included in our subgraph:\n",
    "\n",
    "$$f(x)=\\sum_{i \\in V}\\sum_{j \\in V}c_{i,j}*x_{i,j}$$\n",
    "\n",
    "### Standard form\n",
    "Overall, our problem becomes:\n",
    "\n",
    "$$\n",
    "\\begin{aligned}\n",
    "\\underset{x \\in \\mathbb{R^n}}{\\text{minimize}}\\qquad& \\sum_{i \\in V}\\sum_{j \\in V}c_{i,j}*x_{i,j} \\\\\n",
    "\\text{subject to:}\\qquad\n",
    "& (n-1)+\\sum_{j \\in V} flow_{j,1}*x_{j,1}-\\sum_{j \\in V} flow_{1,j}*x_{1,j} = 0 \\\\\n",
    "& \\sum_{j \\in V} flow_{j,i}*x_{j,i}-\\sum_{j \\in V} flow_{i,j}*x_{i,j} = 1 && 1 \\neq i \\in V\\\\\n",
    "& flow_{i,i}=0 && \\forall i \\in V \\\\\n",
    "& x_{i,i}=0 && \\forall i \\in V \\\\\n",
    "& flow_{i,j} \\geq 0 && \\forall i,j \\in V \\\\\n",
    "& x_{i,j} \\in {\\{0,1\\}} && \\forall i,j \\in V\n",
    "\\end{aligned}\n",
    "$$"
   ]
  },
  {
   "cell_type": "markdown",
   "metadata": {},
   "source": [
    "Overall, our problem becomes:\n",
    "\n",
    "$\n",
    "\\begin{aligned}\n",
    "\\underset{x \\in \\mathbb{R^n}}{\\text{minimize}}\\qquad& \\sum_{i \\in V}\\sum_{j \\in V}c_{i,j}*x_{i,j} \\\\\n",
    "\\text{subject to:}\\qquad& \\sum_{i,j \\in S}{x_{i,j} \\leq |S|-1} && \\forall S \\subset V\\\\\n",
    "& \\sum_{i,j \\in V}{x_{i,j} = n-1} \\\\\n",
    "& x_{i,i}=0 && i \\in V \\\\\n",
    "& x_{i,j} \\in {\\{0,1\\}} && i,j \\in V \\\\\n",
    "& (n-1)+\\sum_{j \\in V} flow_{j,1}*x_{j,1}-\\sum_{j \\in V} flow_{1,j}*x_{1,j} = 0 \\\\\n",
    "& \\sum_{j \\in V} flow_{j,i}*x_{j,i}-\\sum_{j \\in V} flow_{i,j}*x_{i,j} = 1 \\\\\n",
    "\\end{aligned}\n",
    "$"
   ]
  },
  {
   "cell_type": "markdown",
   "metadata": {
    "collapsed": true
   },
   "source": [
    "## 3. Solution ##\n",
    "\n",
    "Here, you should code up your model in Julia + JuMP and solve it. Your code should be clean, easy to read, well annotated and commented, and it should compile! You are not allowed to use other programming languages or DCP packages such as `convex.jl`. **I will be running your code**. I suggest having multiple code blocks separated by text blocks that explain the various parts of your solution. You may also solve several versions of your problem with different models/assumptions."
   ]
  },
  {
   "cell_type": "code",
   "execution_count": 11,
   "metadata": {
    "collapsed": false
   },
   "outputs": [
    {
     "name": "stdout",
     "output_type": "stream",
     "text": [
      "The total number of horses is: 10.0\n",
      "The total number of donkeys is: 0.0\n",
      "The total number of goats is: 0.0\n"
     ]
    }
   ],
   "source": [
    "# this is a code block\n",
    "using JuMP\n",
    "m = Model()\n",
    "\n",
    "things = [:horses, :donkeys, :goats]     # these are the things \n",
    "@defVar(m, x[things] >= 0)               # the quantities of each of the things (can't be negative)\n",
    "@addConstraint(m, sum(x) <= 10)          # we can't have any more than 10 things total\n",
    "@setObjective(m, Max, x[:horses])        # we want to maximize the number of horses\n",
    "solve(m)\n",
    "\n",
    "for i in things\n",
    "    println(\"The total number of \", i, \" is: \", getValue(x[i]))     # print result\n",
    "end"
   ]
  },
  {
   "cell_type": "markdown",
   "metadata": {},
   "source": [
    "Remember to make sure your code compiles! I will be running your code!"
   ]
  },
  {
   "cell_type": "markdown",
   "metadata": {
    "collapsed": true
   },
   "source": [
    "## 4. Results and discussion ##\n",
    "\n",
    "Here, you display and discuss the results. Show figures, plots, images, trade-off curves, or whatever else you can think of to best illustrate your results. The discussion should explain what the results mean, and how to interpret them. You should also explain the limitations of your approach/model and how sensitive your results are to the assumptions you made.\n",
    "\n",
    "Use plots (see `PyPlot` and `Gadfly` examples from class), or you can display results in a table like this:\n",
    "\n",
    "| Tables        | Are           | Cool  |\n",
    "| ------------- |:-------------:| -----:|\n",
    "| col 3 is      | right-aligned |\\$1600 |\n",
    "| col 2 is      | centered      |  \\$12 |\n",
    "| zebra stripes | are neat      |   \\$1 |\n",
    "\n",
    "### 4.A. Feel free to add subsections\n",
    "\n",
    "#### 4.A.a. or subsubsections"
   ]
  },
  {
   "cell_type": "markdown",
   "metadata": {
    "collapsed": true
   },
   "source": [
    "## 5. Conclusion ##\n",
    "\n",
    "Summarize your findings and your results, and talk about at least one possible future direction; something that might be interesting to pursue as a follow-up to your project."
   ]
  },
  {
   "cell_type": "code",
   "execution_count": null,
   "metadata": {
    "collapsed": true
   },
   "outputs": [],
   "source": []
  }
 ],
 "metadata": {
  "kernelspec": {
   "display_name": "Julia 0.4.5",
   "language": "julia",
   "name": "julia-0.4"
  },
  "language_info": {
   "file_extension": ".jl",
   "mimetype": "application/julia",
   "name": "julia",
   "version": "0.4.5"
  }
 },
 "nbformat": 4,
 "nbformat_minor": 0
}
